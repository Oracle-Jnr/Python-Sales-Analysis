{
 "cells": [
  {
   "cell_type": "markdown",
   "id": "bd395a9e-6f0a-499b-a14a-2627ff53f0ec",
   "metadata": {},
   "source": [
    "# Nwobodo Chukwuebuka"
   ]
  },
  {
   "cell_type": "markdown",
   "id": "19c078ab-7c8f-42c1-aca2-f9f9bdad18da",
   "metadata": {},
   "source": [
    "## Axia Python Project\n",
    " ### Objectives\n",
    "1. Import the sales dataset into a Pandas Data Frame and get familiar \n",
    "with its structure and content.\n",
    "2. Identify and handle missing values, remove duplicates, fix formatting \n",
    "issues (extra spaces), and convert columns to appropriate data types.\n",
    "3. Use descriptive statistics and aggregation techniques to explore \n",
    "trends, distributions, and group-wise summaries.\n"
   ]
  },
  {
   "cell_type": "code",
   "execution_count": 3,
   "id": "4ba666b8-a23b-454e-a283-43a791d26eec",
   "metadata": {},
   "outputs": [],
   "source": [
    "# Import Required Libraries\n",
    "\n",
    "import pandas as pd\n",
    "import matplotlib.pyplot as plt\n",
    "import seaborn as sns\n",
    "import missingno as mno\n",
    "import numpy as np\n",
    "import warnings\n",
    "\n",
    "warnings.filterwarnings(\"ignore\")\n",
    "%matplotlib inline\n",
    "\n",
    "# Set theme\n",
    "sns.set(style='whitegrid')"
   ]
  },
  {
   "cell_type": "code",
   "execution_count": 39,
   "id": "f008308e-d887-45dc-af20-5bb5d6858443",
   "metadata": {},
   "outputs": [],
   "source": [
    "# Import the sales dataset\n",
    "\n",
    "SD = pd.read_excel('Python_SalesData.xlsx')"
   ]
  },
  {
   "cell_type": "markdown",
   "id": "c7008954-0b42-4953-85d7-61b8f117ef0f",
   "metadata": {},
   "source": [
    "## Data Cleaning And Processing"
   ]
  },
  {
   "cell_type": "markdown",
   "id": "4d5bf894-cb02-4128-a067-5880b390cd4c",
   "metadata": {},
   "source": [
    "#### Let's get familiar with its structure and content"
   ]
  },
  {
   "cell_type": "code",
   "execution_count": 40,
   "id": "ea8249a4-adc6-4cd1-9f39-7d64253ca529",
   "metadata": {},
   "outputs": [
    {
     "name": "stdout",
     "output_type": "stream",
     "text": [
      "<class 'pandas.core.frame.DataFrame'>\n",
      "RangeIndex: 255 entries, 0 to 254\n",
      "Data columns (total 10 columns):\n",
      " #   Column      Non-Null Count  Dtype  \n",
      "---  ------      --------------  -----  \n",
      " 0   Unnamed: 0  0 non-null      float64\n",
      " 1   Unnamed: 1  255 non-null    object \n",
      " 2   Unnamed: 2  255 non-null    object \n",
      " 3   Unnamed: 3  255 non-null    object \n",
      " 4   Unnamed: 4  255 non-null    object \n",
      " 5   Unnamed: 5  255 non-null    object \n",
      " 6   Unnamed: 6  255 non-null    object \n",
      " 7   Unnamed: 7  255 non-null    object \n",
      " 8   Unnamed: 8  255 non-null    object \n",
      " 9   Unnamed: 9  255 non-null    object \n",
      "dtypes: float64(1), object(9)\n",
      "memory usage: 20.1+ KB\n"
     ]
    }
   ],
   "source": [
    "SD.info()"
   ]
  },
  {
   "cell_type": "code",
   "execution_count": 41,
   "id": "0c1d3935-6bfa-43af-bd5f-4c653ebbf43e",
   "metadata": {},
   "outputs": [
    {
     "data": {
      "text/html": [
       "<div>\n",
       "<style scoped>\n",
       "    .dataframe tbody tr th:only-of-type {\n",
       "        vertical-align: middle;\n",
       "    }\n",
       "\n",
       "    .dataframe tbody tr th {\n",
       "        vertical-align: top;\n",
       "    }\n",
       "\n",
       "    .dataframe thead th {\n",
       "        text-align: right;\n",
       "    }\n",
       "</style>\n",
       "<table border=\"1\" class=\"dataframe\">\n",
       "  <thead>\n",
       "    <tr style=\"text-align: right;\">\n",
       "      <th></th>\n",
       "      <th>Unnamed: 0</th>\n",
       "      <th>Unnamed: 1</th>\n",
       "      <th>Unnamed: 2</th>\n",
       "      <th>Unnamed: 3</th>\n",
       "      <th>Unnamed: 4</th>\n",
       "      <th>Unnamed: 5</th>\n",
       "      <th>Unnamed: 6</th>\n",
       "      <th>Unnamed: 7</th>\n",
       "      <th>Unnamed: 8</th>\n",
       "      <th>Unnamed: 9</th>\n",
       "    </tr>\n",
       "  </thead>\n",
       "  <tbody>\n",
       "    <tr>\n",
       "      <th>0</th>\n",
       "      <td>NaN</td>\n",
       "      <td>Order ID</td>\n",
       "      <td>Date</td>\n",
       "      <td>Product</td>\n",
       "      <td>Price</td>\n",
       "      <td>Quantity</td>\n",
       "      <td>Purchase Type</td>\n",
       "      <td>Payment Method</td>\n",
       "      <td>Manager</td>\n",
       "      <td>City</td>\n",
       "    </tr>\n",
       "    <tr>\n",
       "      <th>1</th>\n",
       "      <td>NaN</td>\n",
       "      <td>10452</td>\n",
       "      <td>2022-11-07 00:00:00</td>\n",
       "      <td>Fries</td>\n",
       "      <td>3.49</td>\n",
       "      <td>573.065903</td>\n",
       "      <td>Online</td>\n",
       "      <td>Gift Card</td>\n",
       "      <td>Tom      Jackson</td>\n",
       "      <td>London</td>\n",
       "    </tr>\n",
       "    <tr>\n",
       "      <th>2</th>\n",
       "      <td>NaN</td>\n",
       "      <td>10453</td>\n",
       "      <td>2022-11-07 00:00:00</td>\n",
       "      <td>Beverages</td>\n",
       "      <td>2.95</td>\n",
       "      <td>745.762712</td>\n",
       "      <td>Online</td>\n",
       "      <td>Gift Card</td>\n",
       "      <td>Pablo Perez</td>\n",
       "      <td>Madrid</td>\n",
       "    </tr>\n",
       "    <tr>\n",
       "      <th>3</th>\n",
       "      <td>NaN</td>\n",
       "      <td>10454</td>\n",
       "      <td>2022-11-07 00:00:00</td>\n",
       "      <td>Sides &amp; Other</td>\n",
       "      <td>4.99</td>\n",
       "      <td>200.400802</td>\n",
       "      <td>In-store</td>\n",
       "      <td>Gift Card</td>\n",
       "      <td>Joao    Silva</td>\n",
       "      <td>Lisbon</td>\n",
       "    </tr>\n",
       "    <tr>\n",
       "      <th>4</th>\n",
       "      <td>NaN</td>\n",
       "      <td>10455</td>\n",
       "      <td>2022-11-08 00:00:00</td>\n",
       "      <td>Burgers</td>\n",
       "      <td>12.99</td>\n",
       "      <td>569.668976</td>\n",
       "      <td>In-store</td>\n",
       "      <td>Credit Card</td>\n",
       "      <td>Walter Muller</td>\n",
       "      <td>Berlin</td>\n",
       "    </tr>\n",
       "    <tr>\n",
       "      <th>...</th>\n",
       "      <td>...</td>\n",
       "      <td>...</td>\n",
       "      <td>...</td>\n",
       "      <td>...</td>\n",
       "      <td>...</td>\n",
       "      <td>...</td>\n",
       "      <td>...</td>\n",
       "      <td>...</td>\n",
       "      <td>...</td>\n",
       "      <td>...</td>\n",
       "    </tr>\n",
       "    <tr>\n",
       "      <th>250</th>\n",
       "      <td>NaN</td>\n",
       "      <td>10709</td>\n",
       "      <td>2022-12-28 00:00:00</td>\n",
       "      <td>Sides &amp; Other</td>\n",
       "      <td>4.99</td>\n",
       "      <td>200.400802</td>\n",
       "      <td>Drive-thru</td>\n",
       "      <td>Gift Card</td>\n",
       "      <td>Walter Muller</td>\n",
       "      <td>Berlin</td>\n",
       "    </tr>\n",
       "    <tr>\n",
       "      <th>251</th>\n",
       "      <td>NaN</td>\n",
       "      <td>10710</td>\n",
       "      <td>2022-12-29 00:00:00</td>\n",
       "      <td>Burgers</td>\n",
       "      <td>12.99</td>\n",
       "      <td>754.426482</td>\n",
       "      <td>Drive-thru</td>\n",
       "      <td>Gift Card</td>\n",
       "      <td>Walter Muller</td>\n",
       "      <td>Berlin</td>\n",
       "    </tr>\n",
       "    <tr>\n",
       "      <th>252</th>\n",
       "      <td>NaN</td>\n",
       "      <td>10711</td>\n",
       "      <td>2022-12-29 00:00:00</td>\n",
       "      <td>Chicken Sandwiches</td>\n",
       "      <td>9.95</td>\n",
       "      <td>281.407035</td>\n",
       "      <td>Drive-thru</td>\n",
       "      <td>Gift Card</td>\n",
       "      <td>Walter Muller</td>\n",
       "      <td>Berlin</td>\n",
       "    </tr>\n",
       "    <tr>\n",
       "      <th>253</th>\n",
       "      <td>NaN</td>\n",
       "      <td>10712</td>\n",
       "      <td>2022-12-29 00:00:00</td>\n",
       "      <td>Fries</td>\n",
       "      <td>3.49</td>\n",
       "      <td>630.372493</td>\n",
       "      <td>Drive-thru</td>\n",
       "      <td>Gift Card</td>\n",
       "      <td>Walter Muller</td>\n",
       "      <td>Berlin</td>\n",
       "    </tr>\n",
       "    <tr>\n",
       "      <th>254</th>\n",
       "      <td>NaN</td>\n",
       "      <td>10713</td>\n",
       "      <td>2022-12-29 00:00:00</td>\n",
       "      <td>Beverages</td>\n",
       "      <td>2.95</td>\n",
       "      <td>677.966102</td>\n",
       "      <td>Drive-thru</td>\n",
       "      <td>Gift Card</td>\n",
       "      <td>Walter Muller</td>\n",
       "      <td>Berlin</td>\n",
       "    </tr>\n",
       "  </tbody>\n",
       "</table>\n",
       "<p>255 rows × 10 columns</p>\n",
       "</div>"
      ],
      "text/plain": [
       "     Unnamed: 0 Unnamed: 1           Unnamed: 2          Unnamed: 3  \\\n",
       "0           NaN   Order ID                 Date             Product   \n",
       "1           NaN      10452  2022-11-07 00:00:00               Fries   \n",
       "2           NaN      10453  2022-11-07 00:00:00           Beverages   \n",
       "3           NaN      10454  2022-11-07 00:00:00       Sides & Other   \n",
       "4           NaN      10455  2022-11-08 00:00:00             Burgers   \n",
       "..          ...        ...                  ...                 ...   \n",
       "250         NaN      10709  2022-12-28 00:00:00       Sides & Other   \n",
       "251         NaN      10710  2022-12-29 00:00:00             Burgers   \n",
       "252         NaN      10711  2022-12-29 00:00:00  Chicken Sandwiches   \n",
       "253         NaN      10712  2022-12-29 00:00:00               Fries   \n",
       "254         NaN      10713  2022-12-29 00:00:00           Beverages   \n",
       "\n",
       "    Unnamed: 4  Unnamed: 5     Unnamed: 6      Unnamed: 7          Unnamed: 8  \\\n",
       "0        Price    Quantity  Purchase Type  Payment Method             Manager   \n",
       "1         3.49  573.065903        Online        Gift Card    Tom      Jackson   \n",
       "2         2.95  745.762712        Online        Gift Card         Pablo Perez   \n",
       "3         4.99  200.400802      In-store        Gift Card       Joao    Silva   \n",
       "4        12.99  569.668976      In-store      Credit Card       Walter Muller   \n",
       "..         ...         ...            ...             ...                 ...   \n",
       "250       4.99  200.400802    Drive-thru        Gift Card       Walter Muller   \n",
       "251      12.99  754.426482    Drive-thru        Gift Card       Walter Muller   \n",
       "252       9.95  281.407035    Drive-thru        Gift Card       Walter Muller   \n",
       "253       3.49  630.372493    Drive-thru        Gift Card       Walter Muller   \n",
       "254       2.95  677.966102    Drive-thru        Gift Card       Walter Muller   \n",
       "\n",
       "    Unnamed: 9  \n",
       "0         City  \n",
       "1       London  \n",
       "2       Madrid  \n",
       "3       Lisbon  \n",
       "4       Berlin  \n",
       "..         ...  \n",
       "250     Berlin  \n",
       "251     Berlin  \n",
       "252     Berlin  \n",
       "253     Berlin  \n",
       "254     Berlin  \n",
       "\n",
       "[255 rows x 10 columns]"
      ]
     },
     "execution_count": 41,
     "metadata": {},
     "output_type": "execute_result"
    }
   ],
   "source": [
    "SD"
   ]
  },
  {
   "cell_type": "markdown",
   "id": "5e97ff89-4bea-4ef0-9aa3-cd79441b7d4b",
   "metadata": {},
   "source": [
    "#### Since the first row is blank, I'll drop the first row, and make the second row the header"
   ]
  },
  {
   "cell_type": "code",
   "execution_count": 45,
   "id": "c5def973-18cd-4572-a6b0-b6c620fb0150",
   "metadata": {},
   "outputs": [],
   "source": [
    "SD.columns=SD.iloc[0]\n",
    "SD = SD[1:].reset_index(drop=True)"
   ]
  },
  {
   "cell_type": "code",
   "execution_count": 47,
   "id": "9c2d4f21-53d7-4c8a-9f56-34b2ddb0d532",
   "metadata": {},
   "outputs": [
    {
     "data": {
      "text/html": [
       "<div>\n",
       "<style scoped>\n",
       "    .dataframe tbody tr th:only-of-type {\n",
       "        vertical-align: middle;\n",
       "    }\n",
       "\n",
       "    .dataframe tbody tr th {\n",
       "        vertical-align: top;\n",
       "    }\n",
       "\n",
       "    .dataframe thead th {\n",
       "        text-align: right;\n",
       "    }\n",
       "</style>\n",
       "<table border=\"1\" class=\"dataframe\">\n",
       "  <thead>\n",
       "    <tr style=\"text-align: right;\">\n",
       "      <th></th>\n",
       "      <th>NaN</th>\n",
       "      <th>Order ID</th>\n",
       "      <th>Date</th>\n",
       "      <th>Product</th>\n",
       "      <th>Price</th>\n",
       "      <th>Quantity</th>\n",
       "      <th>Purchase Type</th>\n",
       "      <th>Payment Method</th>\n",
       "      <th>Manager</th>\n",
       "      <th>City</th>\n",
       "    </tr>\n",
       "  </thead>\n",
       "  <tbody>\n",
       "    <tr>\n",
       "      <th>0</th>\n",
       "      <td>NaN</td>\n",
       "      <td>10452</td>\n",
       "      <td>2022-11-07 00:00:00</td>\n",
       "      <td>Fries</td>\n",
       "      <td>3.49</td>\n",
       "      <td>573.065903</td>\n",
       "      <td>Online</td>\n",
       "      <td>Gift Card</td>\n",
       "      <td>Tom      Jackson</td>\n",
       "      <td>London</td>\n",
       "    </tr>\n",
       "    <tr>\n",
       "      <th>1</th>\n",
       "      <td>NaN</td>\n",
       "      <td>10453</td>\n",
       "      <td>2022-11-07 00:00:00</td>\n",
       "      <td>Beverages</td>\n",
       "      <td>2.95</td>\n",
       "      <td>745.762712</td>\n",
       "      <td>Online</td>\n",
       "      <td>Gift Card</td>\n",
       "      <td>Pablo Perez</td>\n",
       "      <td>Madrid</td>\n",
       "    </tr>\n",
       "    <tr>\n",
       "      <th>2</th>\n",
       "      <td>NaN</td>\n",
       "      <td>10454</td>\n",
       "      <td>2022-11-07 00:00:00</td>\n",
       "      <td>Sides &amp; Other</td>\n",
       "      <td>4.99</td>\n",
       "      <td>200.400802</td>\n",
       "      <td>In-store</td>\n",
       "      <td>Gift Card</td>\n",
       "      <td>Joao    Silva</td>\n",
       "      <td>Lisbon</td>\n",
       "    </tr>\n",
       "    <tr>\n",
       "      <th>3</th>\n",
       "      <td>NaN</td>\n",
       "      <td>10455</td>\n",
       "      <td>2022-11-08 00:00:00</td>\n",
       "      <td>Burgers</td>\n",
       "      <td>12.99</td>\n",
       "      <td>569.668976</td>\n",
       "      <td>In-store</td>\n",
       "      <td>Credit Card</td>\n",
       "      <td>Walter Muller</td>\n",
       "      <td>Berlin</td>\n",
       "    </tr>\n",
       "    <tr>\n",
       "      <th>4</th>\n",
       "      <td>NaN</td>\n",
       "      <td>10456</td>\n",
       "      <td>2022-11-08 00:00:00</td>\n",
       "      <td>Chicken Sandwiches</td>\n",
       "      <td>9.95</td>\n",
       "      <td>201.005025</td>\n",
       "      <td>In-store</td>\n",
       "      <td>Credit Card</td>\n",
       "      <td>Walter Muller</td>\n",
       "      <td>Berlin</td>\n",
       "    </tr>\n",
       "  </tbody>\n",
       "</table>\n",
       "</div>"
      ],
      "text/plain": [
       "0  NaN Order ID                 Date             Product  Price    Quantity  \\\n",
       "0  NaN    10452  2022-11-07 00:00:00               Fries   3.49  573.065903   \n",
       "1  NaN    10453  2022-11-07 00:00:00           Beverages   2.95  745.762712   \n",
       "2  NaN    10454  2022-11-07 00:00:00       Sides & Other   4.99  200.400802   \n",
       "3  NaN    10455  2022-11-08 00:00:00             Burgers  12.99  569.668976   \n",
       "4  NaN    10456  2022-11-08 00:00:00  Chicken Sandwiches   9.95  201.005025   \n",
       "\n",
       "0 Purchase Type Payment Method             Manager    City  \n",
       "0       Online       Gift Card    Tom      Jackson  London  \n",
       "1       Online       Gift Card         Pablo Perez  Madrid  \n",
       "2     In-store       Gift Card       Joao    Silva  Lisbon  \n",
       "3     In-store     Credit Card       Walter Muller  Berlin  \n",
       "4     In-store     Credit Card       Walter Muller  Berlin  "
      ]
     },
     "execution_count": 47,
     "metadata": {},
     "output_type": "execute_result"
    }
   ],
   "source": [
    "SD.head(5)"
   ]
  },
  {
   "cell_type": "markdown",
   "id": "41c9b481-a4e1-4d59-ac0c-771721fd2e94",
   "metadata": {},
   "source": [
    "#### Notice that NaN column has no importance to this analysis hence, it would de removed.\n"
   ]
  },
  {
   "cell_type": "code",
   "execution_count": 52,
   "id": "08f7d9e7-1b2d-4711-a0c4-e5b8a96716be",
   "metadata": {},
   "outputs": [
    {
     "data": {
      "text/html": [
       "<div>\n",
       "<style scoped>\n",
       "    .dataframe tbody tr th:only-of-type {\n",
       "        vertical-align: middle;\n",
       "    }\n",
       "\n",
       "    .dataframe tbody tr th {\n",
       "        vertical-align: top;\n",
       "    }\n",
       "\n",
       "    .dataframe thead th {\n",
       "        text-align: right;\n",
       "    }\n",
       "</style>\n",
       "<table border=\"1\" class=\"dataframe\">\n",
       "  <thead>\n",
       "    <tr style=\"text-align: right;\">\n",
       "      <th></th>\n",
       "      <th>Order ID</th>\n",
       "      <th>Date</th>\n",
       "      <th>Product</th>\n",
       "      <th>Price</th>\n",
       "      <th>Quantity</th>\n",
       "      <th>Purchase Type</th>\n",
       "      <th>Payment Method</th>\n",
       "      <th>Manager</th>\n",
       "      <th>City</th>\n",
       "    </tr>\n",
       "  </thead>\n",
       "  <tbody>\n",
       "    <tr>\n",
       "      <th>0</th>\n",
       "      <td>10452</td>\n",
       "      <td>2022-11-07 00:00:00</td>\n",
       "      <td>Fries</td>\n",
       "      <td>3.49</td>\n",
       "      <td>573.065903</td>\n",
       "      <td>Online</td>\n",
       "      <td>Gift Card</td>\n",
       "      <td>Tom      Jackson</td>\n",
       "      <td>London</td>\n",
       "    </tr>\n",
       "    <tr>\n",
       "      <th>1</th>\n",
       "      <td>10453</td>\n",
       "      <td>2022-11-07 00:00:00</td>\n",
       "      <td>Beverages</td>\n",
       "      <td>2.95</td>\n",
       "      <td>745.762712</td>\n",
       "      <td>Online</td>\n",
       "      <td>Gift Card</td>\n",
       "      <td>Pablo Perez</td>\n",
       "      <td>Madrid</td>\n",
       "    </tr>\n",
       "    <tr>\n",
       "      <th>2</th>\n",
       "      <td>10454</td>\n",
       "      <td>2022-11-07 00:00:00</td>\n",
       "      <td>Sides &amp; Other</td>\n",
       "      <td>4.99</td>\n",
       "      <td>200.400802</td>\n",
       "      <td>In-store</td>\n",
       "      <td>Gift Card</td>\n",
       "      <td>Joao    Silva</td>\n",
       "      <td>Lisbon</td>\n",
       "    </tr>\n",
       "    <tr>\n",
       "      <th>3</th>\n",
       "      <td>10455</td>\n",
       "      <td>2022-11-08 00:00:00</td>\n",
       "      <td>Burgers</td>\n",
       "      <td>12.99</td>\n",
       "      <td>569.668976</td>\n",
       "      <td>In-store</td>\n",
       "      <td>Credit Card</td>\n",
       "      <td>Walter Muller</td>\n",
       "      <td>Berlin</td>\n",
       "    </tr>\n",
       "    <tr>\n",
       "      <th>4</th>\n",
       "      <td>10456</td>\n",
       "      <td>2022-11-08 00:00:00</td>\n",
       "      <td>Chicken Sandwiches</td>\n",
       "      <td>9.95</td>\n",
       "      <td>201.005025</td>\n",
       "      <td>In-store</td>\n",
       "      <td>Credit Card</td>\n",
       "      <td>Walter Muller</td>\n",
       "      <td>Berlin</td>\n",
       "    </tr>\n",
       "  </tbody>\n",
       "</table>\n",
       "</div>"
      ],
      "text/plain": [
       "0 Order ID                 Date             Product  Price    Quantity  \\\n",
       "0    10452  2022-11-07 00:00:00               Fries   3.49  573.065903   \n",
       "1    10453  2022-11-07 00:00:00           Beverages   2.95  745.762712   \n",
       "2    10454  2022-11-07 00:00:00       Sides & Other   4.99  200.400802   \n",
       "3    10455  2022-11-08 00:00:00             Burgers  12.99  569.668976   \n",
       "4    10456  2022-11-08 00:00:00  Chicken Sandwiches   9.95  201.005025   \n",
       "\n",
       "0 Purchase Type Payment Method             Manager    City  \n",
       "0       Online       Gift Card    Tom      Jackson  London  \n",
       "1       Online       Gift Card         Pablo Perez  Madrid  \n",
       "2     In-store       Gift Card       Joao    Silva  Lisbon  \n",
       "3     In-store     Credit Card       Walter Muller  Berlin  \n",
       "4     In-store     Credit Card       Walter Muller  Berlin  "
      ]
     },
     "execution_count": 52,
     "metadata": {},
     "output_type": "execute_result"
    }
   ],
   "source": [
    "sd = SD.dropna(axis=1)\n",
    "sd.head(5)"
   ]
  },
  {
   "cell_type": "markdown",
   "id": "06a40c78-597b-48a5-be93-46f5e8d1ebdc",
   "metadata": {},
   "source": [
    "#### let's Identify and handle missing values"
   ]
  },
  {
   "cell_type": "code",
   "execution_count": 56,
   "id": "545dbfb1-b307-419e-b48e-e58bd13c948d",
   "metadata": {},
   "outputs": [
    {
     "data": {
      "text/plain": [
       "0\n",
       "Order ID          False\n",
       "Date              False\n",
       "Product           False\n",
       "Price             False\n",
       "Quantity          False\n",
       "Purchase Type     False\n",
       "Payment Method    False\n",
       "Manager           False\n",
       "City              False\n",
       "dtype: bool"
      ]
     },
     "execution_count": 56,
     "metadata": {},
     "output_type": "execute_result"
    }
   ],
   "source": [
    "sd.isna().any()"
   ]
  },
  {
   "cell_type": "code",
   "execution_count": 57,
   "id": "1cb1ac9d-7be5-4996-a1ba-eb859878fc34",
   "metadata": {},
   "outputs": [
    {
     "data": {
      "text/plain": [
       "0\n",
       "Order ID          0\n",
       "Date              0\n",
       "Product           0\n",
       "Price             0\n",
       "Quantity          0\n",
       "Purchase Type     0\n",
       "Payment Method    0\n",
       "Manager           0\n",
       "City              0\n",
       "dtype: int64"
      ]
     },
     "execution_count": 57,
     "metadata": {},
     "output_type": "execute_result"
    }
   ],
   "source": [
    "sd.isna().sum()"
   ]
  },
  {
   "cell_type": "code",
   "execution_count": 58,
   "id": "5ed880a9-4728-4569-ab1b-d0e8c27996c2",
   "metadata": {},
   "outputs": [
    {
     "data": {
      "text/plain": [
       "(254, 9)"
      ]
     },
     "execution_count": 58,
     "metadata": {},
     "output_type": "execute_result"
    }
   ],
   "source": [
    "# Let's drop duplicate. Before then, lets's check the size of the dataset\n",
    "\n",
    "sd.shape"
   ]
  },
  {
   "cell_type": "code",
   "execution_count": 60,
   "id": "acc03113-d825-4916-9afc-63d6883022ed",
   "metadata": {},
   "outputs": [
    {
     "data": {
      "text/plain": [
       "np.int64(0)"
      ]
     },
     "execution_count": 60,
     "metadata": {},
     "output_type": "execute_result"
    }
   ],
   "source": [
    "sd.duplicated().sum()"
   ]
  },
  {
   "cell_type": "code",
   "execution_count": 61,
   "id": "ecc3da7d-2e52-4671-a20b-504b8e70ca72",
   "metadata": {},
   "outputs": [],
   "source": [
    "# Removoving extra spaces\n",
    "sd = sd.applymap(lambda x:x.strip() if isinstance(x, str) else x)"
   ]
  },
  {
   "cell_type": "markdown",
   "id": "9002067d-885c-493c-813b-4f2e1f339fa6",
   "metadata": {},
   "source": [
    "#### Let's convert columns to appropriate data types"
   ]
  },
  {
   "cell_type": "code",
   "execution_count": 62,
   "id": "ff2033ed-8387-47ce-ac79-6ed839ea9461",
   "metadata": {},
   "outputs": [],
   "source": [
    "# 'Order ID' to integer\n",
    "\n",
    "sd['Order ID']= sd['Order ID'].astype(int)"
   ]
  },
  {
   "cell_type": "code",
   "execution_count": 64,
   "id": "25513d28-a184-409c-858f-7ce66681de79",
   "metadata": {},
   "outputs": [],
   "source": [
    "# 'Price' and 'Quantity' to float\n",
    "\n",
    "sd['Price']= sd['Price'].astype(float)\n",
    "sd['Quantity']= sd['Quantity'].astype(float)"
   ]
  },
  {
   "cell_type": "code",
   "execution_count": 66,
   "id": "8fe0b6f9-6533-4e1d-a345-3d80df1b2664",
   "metadata": {},
   "outputs": [],
   "source": [
    "# 'Date' to Datetime\n",
    "\n",
    "sd['Date']= pd.to_datetime(sd['Date'], errors='coerce')"
   ]
  },
  {
   "cell_type": "code",
   "execution_count": 71,
   "id": "a8fec234-ca30-412c-a6e4-d479037055d5",
   "metadata": {},
   "outputs": [
    {
     "data": {
      "text/plain": [
       "0\n",
       "Order ID                   int64\n",
       "Date              datetime64[ns]\n",
       "Product                   object\n",
       "Price                    float64\n",
       "Quantity                 float64\n",
       "Purchase Type             object\n",
       "Payment Method            object\n",
       "Manager                   object\n",
       "City                      object\n",
       "dtype: object"
      ]
     },
     "execution_count": 71,
     "metadata": {},
     "output_type": "execute_result"
    }
   ],
   "source": [
    "# Let's check to see the presnt data types to confirm if the chanes was effected\n",
    "sd.dtypes"
   ]
  },
  {
   "cell_type": "code",
   "execution_count": 72,
   "id": "52ee58ab-bb53-460a-8294-dda8c2b3e7e6",
   "metadata": {},
   "outputs": [
    {
     "data": {
      "text/html": [
       "<div>\n",
       "<style scoped>\n",
       "    .dataframe tbody tr th:only-of-type {\n",
       "        vertical-align: middle;\n",
       "    }\n",
       "\n",
       "    .dataframe tbody tr th {\n",
       "        vertical-align: top;\n",
       "    }\n",
       "\n",
       "    .dataframe thead th {\n",
       "        text-align: right;\n",
       "    }\n",
       "</style>\n",
       "<table border=\"1\" class=\"dataframe\">\n",
       "  <thead>\n",
       "    <tr style=\"text-align: right;\">\n",
       "      <th></th>\n",
       "      <th>count</th>\n",
       "      <th>mean</th>\n",
       "      <th>min</th>\n",
       "      <th>25%</th>\n",
       "      <th>50%</th>\n",
       "      <th>75%</th>\n",
       "      <th>max</th>\n",
       "      <th>std</th>\n",
       "    </tr>\n",
       "    <tr>\n",
       "      <th>0</th>\n",
       "      <th></th>\n",
       "      <th></th>\n",
       "      <th></th>\n",
       "      <th></th>\n",
       "      <th></th>\n",
       "      <th></th>\n",
       "      <th></th>\n",
       "      <th></th>\n",
       "    </tr>\n",
       "  </thead>\n",
       "  <tbody>\n",
       "    <tr>\n",
       "      <th>Order ID</th>\n",
       "      <td>254.0</td>\n",
       "      <td>10584.133858</td>\n",
       "      <td>10452.0</td>\n",
       "      <td>10520.25</td>\n",
       "      <td>10583.5</td>\n",
       "      <td>10649.75</td>\n",
       "      <td>10713.0</td>\n",
       "      <td>75.889181</td>\n",
       "    </tr>\n",
       "    <tr>\n",
       "      <th>Date</th>\n",
       "      <td>254</td>\n",
       "      <td>2022-12-03 10:23:37.322834688</td>\n",
       "      <td>2022-11-07 00:00:00</td>\n",
       "      <td>2022-11-21 00:00:00</td>\n",
       "      <td>2022-12-03 00:00:00</td>\n",
       "      <td>2022-12-16 18:00:00</td>\n",
       "      <td>2022-12-29 00:00:00</td>\n",
       "      <td>NaN</td>\n",
       "    </tr>\n",
       "    <tr>\n",
       "      <th>Price</th>\n",
       "      <td>254.0</td>\n",
       "      <td>7.102323</td>\n",
       "      <td>2.95</td>\n",
       "      <td>3.49</td>\n",
       "      <td>4.99</td>\n",
       "      <td>9.95</td>\n",
       "      <td>29.05</td>\n",
       "      <td>4.341855</td>\n",
       "    </tr>\n",
       "    <tr>\n",
       "      <th>Quantity</th>\n",
       "      <td>254.0</td>\n",
       "      <td>460.610541</td>\n",
       "      <td>200.400802</td>\n",
       "      <td>201.005025</td>\n",
       "      <td>538.876059</td>\n",
       "      <td>677.444188</td>\n",
       "      <td>754.426482</td>\n",
       "      <td>214.889551</td>\n",
       "    </tr>\n",
       "  </tbody>\n",
       "</table>\n",
       "</div>"
      ],
      "text/plain": [
       "          count                           mean                  min  \\\n",
       "0                                                                     \n",
       "Order ID  254.0                   10584.133858              10452.0   \n",
       "Date        254  2022-12-03 10:23:37.322834688  2022-11-07 00:00:00   \n",
       "Price     254.0                       7.102323                 2.95   \n",
       "Quantity  254.0                     460.610541           200.400802   \n",
       "\n",
       "                          25%                  50%                  75%  \\\n",
       "0                                                                         \n",
       "Order ID             10520.25              10583.5             10649.75   \n",
       "Date      2022-11-21 00:00:00  2022-12-03 00:00:00  2022-12-16 18:00:00   \n",
       "Price                    3.49                 4.99                 9.95   \n",
       "Quantity           201.005025           538.876059           677.444188   \n",
       "\n",
       "                          max         std  \n",
       "0                                          \n",
       "Order ID              10713.0   75.889181  \n",
       "Date      2022-12-29 00:00:00         NaN  \n",
       "Price                   29.05    4.341855  \n",
       "Quantity           754.426482  214.889551  "
      ]
     },
     "execution_count": 72,
     "metadata": {},
     "output_type": "execute_result"
    }
   ],
   "source": [
    "# Summary Statistics of the sales dataset (descriptive statistics)\n",
    "\n",
    "sd.describe().T"
   ]
  },
  {
   "cell_type": "markdown",
   "id": "af6c2b4e-0459-445e-9747-5c7090202df8",
   "metadata": {},
   "source": [
    "## Answering Business Questions"
   ]
  },
  {
   "cell_type": "code",
   "execution_count": 73,
   "id": "c883b3c4-fbc7-4d05-9543-37fea9930927",
   "metadata": {},
   "outputs": [
    {
     "data": {
      "text/plain": [
       "'Credit Card'"
      ]
     },
     "execution_count": 73,
     "metadata": {},
     "output_type": "execute_result"
    }
   ],
   "source": [
    "# 1. What was the Most Preferred Payment Method?\n",
    "\n",
    "sd['Payment Method'].value_counts().idxmax()"
   ]
  },
  {
   "cell_type": "code",
   "execution_count": 87,
   "id": "7d455bed-0f57-465e-bfa3-6b20f57b2f85",
   "metadata": {},
   "outputs": [
    {
     "name": "stdout",
     "output_type": "stream",
     "text": [
      " The best selling product by quantity:Beverages\n",
      " The best selling product by revenue:Burgers\n"
     ]
    }
   ],
   "source": [
    "# 2. Which one was the Most Selling Product by Quantity and by Revenue?\n",
    "\n",
    "# first create a column called revenue\n",
    "sd['Revenue'] = sd['Price']*sd['Quantity']\n",
    "print(f' The best selling product by quantity:{sd.groupby('Product')['Quantity'].sum().idxmax()}')\n",
    "print(f' The best selling product by revenue:{sd.groupby('Product')['Revenue'].sum().idxmax()}')"
   ]
  },
  {
   "cell_type": "code",
   "execution_count": 88,
   "id": "966c7646-e6d3-4a81-8eca-3c41d8ef15d8",
   "metadata": {},
   "outputs": [
    {
     "name": "stdout",
     "output_type": "stream",
     "text": [
      " Lisbon has the highest revenue\n",
      " Joao Silva has the highest revenue\n"
     ]
    }
   ],
   "source": [
    "# 3. Which City had maximum revenue, and Which Manager earned maximum revenue\n",
    "\n",
    "print(f' {sd.groupby('City')['Revenue'].sum().idxmax()} has the highest revenue')\n",
    "print(f' {sd.groupby('Manager')['Revenue'].sum().idxmax()} has the highest revenue')"
   ]
  },
  {
   "cell_type": "code",
   "execution_count": 89,
   "id": "5b5a8149-a4f9-4860-b2cc-bfde2dfc4e72",
   "metadata": {},
   "outputs": [
    {
     "data": {
      "text/plain": [
       "np.float64(3029.5814745954126)"
      ]
     },
     "execution_count": 89,
     "metadata": {},
     "output_type": "execute_result"
    }
   ],
   "source": [
    "# 4. What was the Average Revenue?\n",
    "\n",
    "sd['Revenue'].mean()"
   ]
  },
  {
   "cell_type": "code",
   "execution_count": 97,
   "id": "88662936-9a1b-4275-a6d2-36af7ded9b98",
   "metadata": {},
   "outputs": [
    {
     "data": {
      "text/plain": [
       "np.float64(3029.5814745954126)"
      ]
     },
     "execution_count": 97,
     "metadata": {},
     "output_type": "execute_result"
    }
   ],
   "source": [
    "# 5. What was the Average Revenue of November & December?\n",
    "# first we filter november and december\n",
    "\n",
    "nov_decS= sd[sd['Date'].dt.month.isin([11,12])]\n",
    "nov_decS['Revenue'].mean()"
   ]
  },
  {
   "cell_type": "code",
   "execution_count": 99,
   "id": "60c2315b-be85-4118-a43c-d19aec0101c9",
   "metadata": {},
   "outputs": [
    {
     "name": "stdout",
     "output_type": "stream",
     "text": [
      " standartd deviation of revenue: 2420.1241927718024\n",
      " standartd deviation of quantity: 214.88955129185305\n"
     ]
    }
   ],
   "source": [
    "# 6. What was the Standard Deviation of Revenue and Quantity?\n",
    "\n",
    "print(f' standartd deviation of revenue: {sd['Revenue'].std()}')\n",
    "print(f' standartd deviation of quantity: {sd['Quantity'].std()}')"
   ]
  },
  {
   "cell_type": "code",
   "execution_count": 100,
   "id": "12f8313c-6709-4909-a278-abf05364f016",
   "metadata": {},
   "outputs": [
    {
     "name": "stdout",
     "output_type": "stream",
     "text": [
      " variance of revenue: 5857001.108439369\n",
      " variance of quantity: 46177.51925441394\n"
     ]
    }
   ],
   "source": [
    "# 7. What was the Variance of Revenue and Quantity?\n",
    "\n",
    "print(f' variance of revenue: {sd['Revenue'].var()}')\n",
    "print(f' variance of quantity: {sd['Quantity'].var()}')"
   ]
  },
  {
   "cell_type": "code",
   "execution_count": 101,
   "id": "3b188043-ec14-400d-a538-02559586492d",
   "metadata": {},
   "outputs": [
    {
     "data": {
      "text/html": [
       "<div>\n",
       "<style scoped>\n",
       "    .dataframe tbody tr th:only-of-type {\n",
       "        vertical-align: middle;\n",
       "    }\n",
       "\n",
       "    .dataframe tbody tr th {\n",
       "        vertical-align: top;\n",
       "    }\n",
       "\n",
       "    .dataframe thead th {\n",
       "        text-align: right;\n",
       "    }\n",
       "</style>\n",
       "<table border=\"1\" class=\"dataframe\">\n",
       "  <thead>\n",
       "    <tr style=\"text-align: right;\">\n",
       "      <th></th>\n",
       "      <th>Date</th>\n",
       "      <th>Revenue</th>\n",
       "    </tr>\n",
       "  </thead>\n",
       "  <tbody>\n",
       "    <tr>\n",
       "      <th>0</th>\n",
       "      <td>2022-11-07</td>\n",
       "      <td>5200.000000</td>\n",
       "    </tr>\n",
       "    <tr>\n",
       "      <th>1</th>\n",
       "      <td>2022-11-08</td>\n",
       "      <td>12400.000000</td>\n",
       "    </tr>\n",
       "    <tr>\n",
       "      <th>2</th>\n",
       "      <td>2022-11-09</td>\n",
       "      <td>14200.000000</td>\n",
       "    </tr>\n",
       "    <tr>\n",
       "      <th>3</th>\n",
       "      <td>2022-11-10</td>\n",
       "      <td>13200.000000</td>\n",
       "    </tr>\n",
       "    <tr>\n",
       "      <th>4</th>\n",
       "      <td>2022-11-11</td>\n",
       "      <td>14400.000000</td>\n",
       "    </tr>\n",
       "    <tr>\n",
       "      <th>5</th>\n",
       "      <td>2022-11-12</td>\n",
       "      <td>14000.000000</td>\n",
       "    </tr>\n",
       "    <tr>\n",
       "      <th>6</th>\n",
       "      <td>2022-11-13</td>\n",
       "      <td>27674.498567</td>\n",
       "    </tr>\n",
       "    <tr>\n",
       "      <th>7</th>\n",
       "      <td>2022-11-14</td>\n",
       "      <td>17839.195980</td>\n",
       "    </tr>\n",
       "    <tr>\n",
       "      <th>8</th>\n",
       "      <td>2022-11-15</td>\n",
       "      <td>13600.000000</td>\n",
       "    </tr>\n",
       "    <tr>\n",
       "      <th>9</th>\n",
       "      <td>2022-11-16</td>\n",
       "      <td>13600.000000</td>\n",
       "    </tr>\n",
       "    <tr>\n",
       "      <th>10</th>\n",
       "      <td>2022-11-17</td>\n",
       "      <td>14000.000000</td>\n",
       "    </tr>\n",
       "    <tr>\n",
       "      <th>11</th>\n",
       "      <td>2022-11-18</td>\n",
       "      <td>14400.000000</td>\n",
       "    </tr>\n",
       "    <tr>\n",
       "      <th>12</th>\n",
       "      <td>2022-11-19</td>\n",
       "      <td>14000.000000</td>\n",
       "    </tr>\n",
       "    <tr>\n",
       "      <th>13</th>\n",
       "      <td>2022-11-20</td>\n",
       "      <td>8200.000000</td>\n",
       "    </tr>\n",
       "    <tr>\n",
       "      <th>14</th>\n",
       "      <td>2022-11-21</td>\n",
       "      <td>14000.000000</td>\n",
       "    </tr>\n",
       "    <tr>\n",
       "      <th>15</th>\n",
       "      <td>2022-11-22</td>\n",
       "      <td>13600.000000</td>\n",
       "    </tr>\n",
       "    <tr>\n",
       "      <th>16</th>\n",
       "      <td>2022-11-23</td>\n",
       "      <td>13800.000000</td>\n",
       "    </tr>\n",
       "    <tr>\n",
       "      <th>17</th>\n",
       "      <td>2022-11-24</td>\n",
       "      <td>13600.000000</td>\n",
       "    </tr>\n",
       "    <tr>\n",
       "      <th>18</th>\n",
       "      <td>2022-11-25</td>\n",
       "      <td>13400.000000</td>\n",
       "    </tr>\n",
       "    <tr>\n",
       "      <th>19</th>\n",
       "      <td>2022-11-26</td>\n",
       "      <td>13200.000000</td>\n",
       "    </tr>\n",
       "    <tr>\n",
       "      <th>20</th>\n",
       "      <td>2022-11-27</td>\n",
       "      <td>13400.000000</td>\n",
       "    </tr>\n",
       "    <tr>\n",
       "      <th>21</th>\n",
       "      <td>2022-11-28</td>\n",
       "      <td>13400.000000</td>\n",
       "    </tr>\n",
       "    <tr>\n",
       "      <th>22</th>\n",
       "      <td>2022-11-29</td>\n",
       "      <td>13400.000000</td>\n",
       "    </tr>\n",
       "    <tr>\n",
       "      <th>23</th>\n",
       "      <td>2022-11-30</td>\n",
       "      <td>13600.000000</td>\n",
       "    </tr>\n",
       "    <tr>\n",
       "      <th>24</th>\n",
       "      <td>2022-12-01</td>\n",
       "      <td>13400.000000</td>\n",
       "    </tr>\n",
       "    <tr>\n",
       "      <th>25</th>\n",
       "      <td>2022-12-02</td>\n",
       "      <td>14000.000000</td>\n",
       "    </tr>\n",
       "    <tr>\n",
       "      <th>26</th>\n",
       "      <td>2022-12-03</td>\n",
       "      <td>14000.000000</td>\n",
       "    </tr>\n",
       "    <tr>\n",
       "      <th>27</th>\n",
       "      <td>2022-12-04</td>\n",
       "      <td>9000.000000</td>\n",
       "    </tr>\n",
       "    <tr>\n",
       "      <th>28</th>\n",
       "      <td>2022-12-05</td>\n",
       "      <td>14200.000000</td>\n",
       "    </tr>\n",
       "    <tr>\n",
       "      <th>29</th>\n",
       "      <td>2022-12-06</td>\n",
       "      <td>14000.000000</td>\n",
       "    </tr>\n",
       "    <tr>\n",
       "      <th>30</th>\n",
       "      <td>2022-12-07</td>\n",
       "      <td>14000.000000</td>\n",
       "    </tr>\n",
       "    <tr>\n",
       "      <th>31</th>\n",
       "      <td>2022-12-08</td>\n",
       "      <td>14200.000000</td>\n",
       "    </tr>\n",
       "    <tr>\n",
       "      <th>32</th>\n",
       "      <td>2022-12-09</td>\n",
       "      <td>14600.000000</td>\n",
       "    </tr>\n",
       "    <tr>\n",
       "      <th>33</th>\n",
       "      <td>2022-12-10</td>\n",
       "      <td>14600.000000</td>\n",
       "    </tr>\n",
       "    <tr>\n",
       "      <th>34</th>\n",
       "      <td>2022-12-11</td>\n",
       "      <td>15000.000000</td>\n",
       "    </tr>\n",
       "    <tr>\n",
       "      <th>35</th>\n",
       "      <td>2022-12-12</td>\n",
       "      <td>14600.000000</td>\n",
       "    </tr>\n",
       "    <tr>\n",
       "      <th>36</th>\n",
       "      <td>2022-12-13</td>\n",
       "      <td>14600.000000</td>\n",
       "    </tr>\n",
       "    <tr>\n",
       "      <th>37</th>\n",
       "      <td>2022-12-14</td>\n",
       "      <td>14600.000000</td>\n",
       "    </tr>\n",
       "    <tr>\n",
       "      <th>38</th>\n",
       "      <td>2022-12-15</td>\n",
       "      <td>14400.000000</td>\n",
       "    </tr>\n",
       "    <tr>\n",
       "      <th>39</th>\n",
       "      <td>2022-12-16</td>\n",
       "      <td>15000.000000</td>\n",
       "    </tr>\n",
       "    <tr>\n",
       "      <th>40</th>\n",
       "      <td>2022-12-17</td>\n",
       "      <td>15400.000000</td>\n",
       "    </tr>\n",
       "    <tr>\n",
       "      <th>41</th>\n",
       "      <td>2022-12-18</td>\n",
       "      <td>15600.000000</td>\n",
       "    </tr>\n",
       "    <tr>\n",
       "      <th>42</th>\n",
       "      <td>2022-12-19</td>\n",
       "      <td>15800.000000</td>\n",
       "    </tr>\n",
       "    <tr>\n",
       "      <th>43</th>\n",
       "      <td>2022-12-20</td>\n",
       "      <td>16000.000000</td>\n",
       "    </tr>\n",
       "    <tr>\n",
       "      <th>44</th>\n",
       "      <td>2022-12-21</td>\n",
       "      <td>16400.000000</td>\n",
       "    </tr>\n",
       "    <tr>\n",
       "      <th>45</th>\n",
       "      <td>2022-12-22</td>\n",
       "      <td>16600.000000</td>\n",
       "    </tr>\n",
       "    <tr>\n",
       "      <th>46</th>\n",
       "      <td>2022-12-23</td>\n",
       "      <td>16000.000000</td>\n",
       "    </tr>\n",
       "    <tr>\n",
       "      <th>47</th>\n",
       "      <td>2022-12-24</td>\n",
       "      <td>16400.000000</td>\n",
       "    </tr>\n",
       "    <tr>\n",
       "      <th>48</th>\n",
       "      <td>2022-12-25</td>\n",
       "      <td>16600.000000</td>\n",
       "    </tr>\n",
       "    <tr>\n",
       "      <th>49</th>\n",
       "      <td>2022-12-26</td>\n",
       "      <td>17000.000000</td>\n",
       "    </tr>\n",
       "    <tr>\n",
       "      <th>50</th>\n",
       "      <td>2022-12-27</td>\n",
       "      <td>17000.000000</td>\n",
       "    </tr>\n",
       "    <tr>\n",
       "      <th>51</th>\n",
       "      <td>2022-12-28</td>\n",
       "      <td>17600.000000</td>\n",
       "    </tr>\n",
       "    <tr>\n",
       "      <th>52</th>\n",
       "      <td>2022-12-29</td>\n",
       "      <td>16800.000000</td>\n",
       "    </tr>\n",
       "  </tbody>\n",
       "</table>\n",
       "</div>"
      ],
      "text/plain": [
       "         Date       Revenue\n",
       "0  2022-11-07   5200.000000\n",
       "1  2022-11-08  12400.000000\n",
       "2  2022-11-09  14200.000000\n",
       "3  2022-11-10  13200.000000\n",
       "4  2022-11-11  14400.000000\n",
       "5  2022-11-12  14000.000000\n",
       "6  2022-11-13  27674.498567\n",
       "7  2022-11-14  17839.195980\n",
       "8  2022-11-15  13600.000000\n",
       "9  2022-11-16  13600.000000\n",
       "10 2022-11-17  14000.000000\n",
       "11 2022-11-18  14400.000000\n",
       "12 2022-11-19  14000.000000\n",
       "13 2022-11-20   8200.000000\n",
       "14 2022-11-21  14000.000000\n",
       "15 2022-11-22  13600.000000\n",
       "16 2022-11-23  13800.000000\n",
       "17 2022-11-24  13600.000000\n",
       "18 2022-11-25  13400.000000\n",
       "19 2022-11-26  13200.000000\n",
       "20 2022-11-27  13400.000000\n",
       "21 2022-11-28  13400.000000\n",
       "22 2022-11-29  13400.000000\n",
       "23 2022-11-30  13600.000000\n",
       "24 2022-12-01  13400.000000\n",
       "25 2022-12-02  14000.000000\n",
       "26 2022-12-03  14000.000000\n",
       "27 2022-12-04   9000.000000\n",
       "28 2022-12-05  14200.000000\n",
       "29 2022-12-06  14000.000000\n",
       "30 2022-12-07  14000.000000\n",
       "31 2022-12-08  14200.000000\n",
       "32 2022-12-09  14600.000000\n",
       "33 2022-12-10  14600.000000\n",
       "34 2022-12-11  15000.000000\n",
       "35 2022-12-12  14600.000000\n",
       "36 2022-12-13  14600.000000\n",
       "37 2022-12-14  14600.000000\n",
       "38 2022-12-15  14400.000000\n",
       "39 2022-12-16  15000.000000\n",
       "40 2022-12-17  15400.000000\n",
       "41 2022-12-18  15600.000000\n",
       "42 2022-12-19  15800.000000\n",
       "43 2022-12-20  16000.000000\n",
       "44 2022-12-21  16400.000000\n",
       "45 2022-12-22  16600.000000\n",
       "46 2022-12-23  16000.000000\n",
       "47 2022-12-24  16400.000000\n",
       "48 2022-12-25  16600.000000\n",
       "49 2022-12-26  17000.000000\n",
       "50 2022-12-27  17000.000000\n",
       "51 2022-12-28  17600.000000\n",
       "52 2022-12-29  16800.000000"
      ]
     },
     "execution_count": 101,
     "metadata": {},
     "output_type": "execute_result"
    }
   ],
   "source": [
    "# 8. Was the revenue increasing or decreasing over the time\n",
    "\n",
    "sd.groupby('Date')['Revenue'].sum().reset_index()"
   ]
  },
  {
   "cell_type": "code",
   "execution_count": 108,
   "id": "8bfc6fbc-5c53-4b8d-a03a-63147b3d5ed0",
   "metadata": {},
   "outputs": [
    {
     "data": {
      "image/png": "[encoded data removed]",
      "text/plain": [
       "<Figure size 640x480 with 1 Axes>"
      ]
     },
     "metadata": {},
     "output_type": "display_data"
    }
   ],
   "source": [
    "\n",
    "plt.plot(sd['Date'], sd['Revenue'])\n",
    "plt.title('Revenue distribution', fontsize=14, color='b')\n",
    "plt.xlabel('Date')\n",
    "plt.ylabel('Revenue ($)')\n",
    "plt.xticks(rotation=45)\n",
    "plt.show()\n",
    "\n"
   ]
  },
  {
   "cell_type": "code",
   "execution_count": 113,
   "id": "612ab61d-3a69-49ab-8f79-8b9f670803b4",
   "metadata": {},
   "outputs": [
    {
     "name": "stdout",
     "output_type": "stream",
     "text": [
      " Average quantity sold: 460.6105406984655\n",
      "Average revenue for each product: Product\n",
      "Beverages             2064.000000\n",
      "Burgers               7250.000000\n",
      "Chicken Sandwiches    2204.599923\n",
      "Fries                 2464.205854\n",
      "Sides & Other         1000.000000\n",
      "Name: Revenue, dtype: float64\n"
     ]
    }
   ],
   "source": [
    "# 9. What was the Average 'Quantity Sold' & 'Average Revenue' for each product?\n",
    "\n",
    "print(f' Average quantity sold: {sd['Quantity'].mean()}')\n",
    "print(f'Average revenue for each product: {sd.groupby('Product')['Revenue'].mean()}')"
   ]
  },
  {
   "cell_type": "code",
   "execution_count": 117,
   "id": "34d56b58-6fd6-44ca-98f3-632dcac52ef9",
   "metadata": {},
   "outputs": [
    {
     "name": "stdout",
     "output_type": "stream",
     "text": [
      "total number of orders: 254\n"
     ]
    }
   ],
   "source": [
    "# 10. What was the total number of orders or sales made?\n",
    "\n",
    "print(f'total number of orders: {sd['Order ID'].nunique()}')\n"
   ]
  },
  {
   "cell_type": "code",
   "execution_count": null,
   "id": "5b21f3f9-5f4d-4b50-aaac-a0e6c6a7864a",
   "metadata": {},
   "outputs": [],
   "source": []
  }
 ],
 "metadata": {
  "kernelspec": {
   "display_name": "Python 3 (ipykernel)",
   "language": "python",
   "name": "python3"
  },
  "language_info": {
   "codemirror_mode": {
    "name": "ipython",
    "version": 3
   },
   "file_extension": ".py",
   "mimetype": "text/x-python",
   "name": "python",
   "nbconvert_exporter": "python",
   "pygments_lexer": "ipython3",
   "version": "3.13.5"
  }
 },
 "nbformat": 4,
 "nbformat_minor": 5
}
